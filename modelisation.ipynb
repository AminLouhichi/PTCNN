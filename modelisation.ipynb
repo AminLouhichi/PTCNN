{
 "cells": [
  {
   "cell_type": "markdown",
   "id": "c2b5fd94",
   "metadata": {},
   "source": [
    "## initialisation des classes qui se répète pour chaque acteur en suivant le même ordre"
   ]
  },
  {
   "cell_type": "code",
   "execution_count": null,
   "id": "da1ebb79",
   "metadata": {},
   "outputs": [],
   "source": [
    "#  classes=[1,2,2,10,10,3,3,11,11,4,4,5,5,6,6,13,13,7,7,12,12,8,8,9]\n",
    "\n",
    "classes=[1,2,2,3,3,4,4,4,4,5,5,6,6,7,7,7,7,8,8,9,9,9,9,10]"
   ]
  },
  {
   "cell_type": "code",
   "execution_count": null,
   "id": "5352eaca",
   "metadata": {},
   "outputs": [],
   "source": [
    "import torch\n",
    "import numpy as np\n",
    "import pandas as pd\n",
    "c=[]\n",
    "for i in range(0,10):\n",
    "    \n",
    "    for i in range(0,24):\n",
    "        c.append(classes[i]-1)\n",
    "ca=pd.DataFrame(c)"
   ]
  },
  {
   "cell_type": "markdown",
   "id": "dd6a2877",
   "metadata": {},
   "source": [
    "## imprtation des données"
   ]
  },
  {
   "cell_type": "code",
   "execution_count": null,
   "id": "562e7571",
   "metadata": {},
   "outputs": [],
   "source": [
    "df= pd.read_csv(r'C:\\Users\\amin\\extracted patch\\Fichier CSV\\Final\\Data_Final.csv')\n",
    "df=df.drop(columns=['Unnamed: 0'])\n",
    "df"
   ]
  },
  {
   "cell_type": "code",
   "execution_count": null,
   "id": "8f78d7c2",
   "metadata": {},
   "outputs": [],
   "source": [
    "result=df\n",
    "df1=result"
   ]
  },
  {
   "cell_type": "code",
   "execution_count": null,
   "id": "5b80e1a8",
   "metadata": {},
   "outputs": [],
   "source": [
    "ca.reset_index(inplace=True, drop=True)\n",
    "df1.reset_index(inplace=True, drop=True)\n",
    "frames = [df1,ca]\n",
    "result = pd.concat(frames ,axis=1,ignore_index=True)\n",
    "result"
   ]
  },
  {
   "cell_type": "markdown",
   "id": "582e6f92",
   "metadata": {},
   "source": [
    "## split"
   ]
  },
  {
   "cell_type": "code",
   "execution_count": null,
   "id": "1773ad4a",
   "metadata": {},
   "outputs": [],
   "source": [
    "from sklearn.model_selection import KFold, cross_val_score, train_test_split\n",
    "X = result.iloc[:,:-1]\n",
    "y = result.iloc[:,-1]\n",
    "\n",
    "X_train,X_test,y_train,y_test = train_test_split(X,y,test_size=0.2, random_state=42)"
   ]
  },
  {
   "cell_type": "markdown",
   "id": "8f8af222",
   "metadata": {},
   "source": [
    "## normalisation"
   ]
  },
  {
   "cell_type": "code",
   "execution_count": 1,
   "id": "ee8fbac5",
   "metadata": {
    "collapsed": true
   },
   "outputs": [
    {
     "ename": "NameError",
     "evalue": "name 'X_train' is not defined",
     "output_type": "error",
     "traceback": [
      "\u001b[1;31m---------------------------------------------------------------------------\u001b[0m",
      "\u001b[1;31mNameError\u001b[0m                                 Traceback (most recent call last)",
      "Input \u001b[1;32mIn [1]\u001b[0m, in \u001b[0;36m<cell line: 3>\u001b[1;34m()\u001b[0m\n\u001b[0;32m      1\u001b[0m \u001b[38;5;28;01mfrom\u001b[39;00m \u001b[38;5;21;01msklearn\u001b[39;00m\u001b[38;5;21;01m.\u001b[39;00m\u001b[38;5;21;01mpreprocessing\u001b[39;00m \u001b[38;5;28;01mimport\u001b[39;00m StandardScaler\n\u001b[0;32m      2\u001b[0m scaler \u001b[38;5;241m=\u001b[39m StandardScaler()\n\u001b[1;32m----> 3\u001b[0m X_train \u001b[38;5;241m=\u001b[39m scaler\u001b[38;5;241m.\u001b[39mfit_transform(\u001b[43mX_train\u001b[49m)\n\u001b[0;32m      4\u001b[0m X_test \u001b[38;5;241m=\u001b[39m scaler\u001b[38;5;241m.\u001b[39mtransform(X_test)\n",
      "\u001b[1;31mNameError\u001b[0m: name 'X_train' is not defined"
     ]
    }
   ],
   "source": [
    "from sklearn.preprocessing import StandardScaler\n",
    "scaler = StandardScaler()\n",
    "X_train = scaler.fit_transform(X_train)\n",
    "X_test = scaler.transform(X_test)"
   ]
  },
  {
   "cell_type": "markdown",
   "id": "cf2b705d",
   "metadata": {},
   "source": [
    "## modélisation"
   ]
  },
  {
   "cell_type": "code",
   "execution_count": null,
   "id": "46feac2d",
   "metadata": {},
   "outputs": [],
   "source": [
    "import numpy as np\n",
    "\n",
    " \n",
    "from keras.models import Sequential\n",
    "from keras.layers import Dense, Dropout, Activation, Flatten,BatchNormalization\n",
    "\n",
    "from keras.utils import np_utils\n",
    "from keras.optimizers import SGD\n",
    "from keras.callbacks import History \n",
    "from keras.callbacks import LearningRateScheduler\n",
    "from tensorflow.keras.callbacks import TensorBoard\n",
    "from tensorflow.keras.callbacks import ModelCheckpoint, ModelCheckpoint\n",
    "\n"
   ]
  },
  {
   "cell_type": "code",
   "execution_count": null,
   "id": "7a2a6881",
   "metadata": {},
   "outputs": [],
   "source": [
    "\n",
    "from keras.callbacks import History \n",
    "from keras.callbacks import LearningRateScheduler\n",
    "from keras.constraints import maxnorm\n",
    "\n",
    "epochs = 580\n",
    "\n",
    "\n",
    "learning_rate = 0.01\n",
    "decay_rate = decay=0.00001\n",
    "momentum = 0.8\n",
    "\n",
    "# define the optimizer function\n",
    "sgd = SGD(lr=learning_rate, decay=decay_rate,momentum= 0.4, nesterov=False)\n",
    "\n",
    "input_dim = X_train.shape[1]\n",
    "num_classes = 10\n",
    "batch_size = 170\n",
    "\n",
    "\n",
    "\n",
    "\n",
    "\n",
    "\n",
    "Y_train = np_utils.to_categorical(y_train, 10)\n",
    "Y_test = np_utils.to_categorical(y_test, 10)\n",
    " \n",
    "# 7. Define model architecture\n",
    "model = Sequential()\n",
    "model.add(Dense(240,  input_dim= input_dim, activation = \"relu\"))\n",
    "model.add(Dropout(0.4))\n",
    "model.add(Dense(200,  input_dim= input_dim, activation = \"relu\"))\n",
    "model.add(Dense(150,  input_dim= input_dim, activation = \"relu\"))\n",
    "model.add(Dense(150,  input_dim= input_dim, activation = \"relu\"))\n",
    "model.add(BatchNormalization())\n",
    "model.add(Dropout(0.3))\n",
    "model.add(Dense(120, activation = \"relu\"))\n",
    "model.add(Dropout(0.2))\n",
    "model.add(BatchNormalization())\n",
    "model.add(Dense(60, activation = \"relu\"))\n",
    "model.add(Dropout(0.2))\n",
    "model.add(Dense(30, activation = \"relu\"))\n",
    "model.add(Dropout(0.2))\n",
    "model.add(Dense(20, activation = \"relu\"))\n",
    "model.add(BatchNormalization())\n",
    "model.add(Dropout(0.2))\n",
    "model.add(Dense(10, activation = \"softmax\"))\n",
    "\n",
    "\n",
    "\n",
    "# compile the model\n",
    "model.compile(loss='categorical_crossentropy', \n",
    "                                optimizer=sgd, \n",
    "\n",
    "metrics=['acc'])\n",
    "\n",
    "# define the learning rate change \n",
    "def exp_decay(epoch):\n",
    "    lrate = learning_rate * np.exp(-decay_rate*epoch)\n",
    "    return lrate\n",
    "\n",
    "filepath = \"model_Final-{epoch:02d}-{val_acc:.3f}\"  # unique file name that will include the epoch and the validation acc for that epoch  # unique file name that will include the epoch and the validation acc for that epoch\n",
    "checkpoint = ModelCheckpoint(\"model/{}.model\".format(filepath, monitor='val_acc', verbose=1, save_best_only=True, mode='max'))   \n",
    "# learning schedule callback\n",
    "loss_history = History()\n",
    "lr_rate = LearningRateScheduler(exp_decay)\n",
    "callbacks_list = [loss_history, lr_rate]\n",
    "\n",
    "# you invoke the LearningRateScheduler during the .fit() phase\n",
    "exponential_decay_model_history = model.fit(X_train, Y_train,\n",
    "                                    batch_size=batch_size,\n",
    "                                    epochs=epochs,\n",
    "                                    callbacks=callbacks_list,\n",
    "                                    verbose=1,\n",
    "                                    validation_data=(X_test, Y_test))\n",
    "\n",
    "\n"
   ]
  },
  {
   "cell_type": "markdown",
   "id": "47741f2b",
   "metadata": {},
   "source": [
    "## evaluation du model"
   ]
  },
  {
   "cell_type": "code",
   "execution_count": null,
   "id": "280293af",
   "metadata": {},
   "outputs": [],
   "source": [
    "# 10. Evaluate model on test data\n",
    "score = model.evaluate(X_test, Y_test, verbose=0)\n",
    "score[1]*100"
   ]
  },
  {
   "cell_type": "code",
   "execution_count": null,
   "id": "48147df1",
   "metadata": {},
   "outputs": [],
   "source": [
    "from matplotlib import pyplot\n",
    "# evaluate the model\n",
    "_, train_acc = model.evaluate(X_train, Y_train, verbose=0)\n",
    "_, test_acc = model.evaluate(X_test, Y_test, verbose=0)\n",
    "print('Train: %.3f, Test: %.3f' % (train_acc, test_acc))\n",
    "# plot history\n",
    "pyplot.plot(exponential_decay_model_history.history['acc'], label='train')\n",
    "pyplot.plot(exponential_decay_model_history.history['val_acc'], label='test')\n",
    "pyplot.legend()\n",
    "pyplot.show()"
   ]
  }
 ],
 "metadata": {
  "kernelspec": {
   "display_name": "Python 3 (ipykernel)",
   "language": "python",
   "name": "python3"
  },
  "language_info": {
   "codemirror_mode": {
    "name": "ipython",
    "version": 3
   },
   "file_extension": ".py",
   "mimetype": "text/x-python",
   "name": "python",
   "nbconvert_exporter": "python",
   "pygments_lexer": "ipython3",
   "version": "3.8.0"
  }
 },
 "nbformat": 4,
 "nbformat_minor": 5
}
