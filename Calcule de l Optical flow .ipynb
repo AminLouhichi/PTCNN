{
 "cells": [
  {
   "cell_type": "markdown",
   "id": "758a21d1",
   "metadata": {},
   "source": [
    "function qui retourne le nb de fichier dans path "
   ]
  },
  {
   "cell_type": "code",
   "execution_count": 3,
   "id": "05153c18",
   "metadata": {},
   "outputs": [],
   "source": [
    "\n",
    "import pathlib\n",
    "def countNb(path) :\n",
    "    initial_count = 0\n",
    "    for path in pathlib.Path(path).iterdir():\n",
    "        if path.is_file():\n",
    "            initial_count += 1\n",
    "\n",
    "    return(initial_count)"
   ]
  },
  {
   "cell_type": "markdown",
   "id": "83819869",
   "metadata": {},
   "source": [
    "importation des biblio"
   ]
  },
  {
   "cell_type": "code",
   "execution_count": 4,
   "id": "d80a7828",
   "metadata": {},
   "outputs": [],
   "source": [
    "import pandas as pd\n",
    "import numpy as np\n",
    "import cv2\n",
    "from tqdm import tqdm\n",
    "from os import listdir\n",
    "from os.path import isfile, join\n"
   ]
  },
  {
   "cell_type": "markdown",
   "id": "fbd78140",
   "metadata": {},
   "source": [
    "on a ou préalable extrait lrs frame de chaque vidéo est-on les a placé dans un variable intitulé pathImage .\n"
   ]
  },
  {
   "cell_type": "code",
   "execution_count": 39,
   "id": "712bea09",
   "metadata": {},
   "outputs": [
    {
     "name": "stderr",
     "output_type": "stream",
     "text": [
      " 30%|███       | 3/10 [6:32:22<15:38:23, 8043.33s/it]"
     ]
    },
    {
     "name": "stdout",
     "output_type": "stream",
     "text": [
      "52\n",
      "S3_hittingBottle_toRight_HD\n"
     ]
    },
    {
     "name": "stderr",
     "output_type": "stream",
     "text": [
      "100%|██████████| 10/10 [27:03:25<00:00, 9740.55s/it]  \n"
     ]
    }
   ],
   "source": [
    "path =r'C:\\Users\\amin\\extracted patch\\Nouveau dossier'\n",
    "dossier = [f for f in listdir(path) ]\n",
    "#la variable dossier est une liste qui contient les noms des dossiers des acteurs qui contient et des dossiers pour les actions \n",
    "#il sera utilisé pour itérer pour grouper les images par acteur est par action dans le dossier des final \n",
    "# \n",
    "m=0 \n",
    "pathImage = r'C:\\Users\\amin\\extracted patch\\action'+'\\\\'\n",
    "# pathImg c est le path des images \n",
    "for i in tqdm(range (0,10)) :\n",
    "    pathData = r'C:\\Users\\amin\\extracted patch\\Nouveau dossier'+'\\\\'\n",
    "    pathData=pathData+ dossier[i]+'\\\\'\n",
    "    Data = [f for f in listdir(pathData) ]\n",
    "    mp=dossier[i]\n",
    "    #Data contient la liste des dossier pour chaque acteur\n",
    "    for j in range (0,len(Data)) :\n",
    "        a=pathData\n",
    "        do=Data[j]\n",
    "        \n",
    "        a=a+Data[j]+'\\\\'\n",
    "        do1=do\n",
    "        #do contient le path qui sera utlise pour chaque image \n",
    "        if do1=='S10_punching_toLeft_sideView_HD':\n",
    "            do1='S10_punching_toLeft__ideView_HD'\n",
    "        #ce test est utilisé parce que cette image n'est pas annotée correctement.\n",
    "\n",
    "        nb=int((countNb(a)/2))\n",
    "        #calcule de l'optical flow entre 2 images successives \n",
    "        for n in  range(1,nb):\n",
    "            if n != nb :\n",
    "                frame1 = cv2.imread(pathImage+do1+'_'+str(n)+'.jpg')\n",
    "                frame2 = cv2.imread(pathImage+do1+'_'+str(n+1)+'.jpg')\n",
    "\n",
    "                if not (frame1.shape == frame2.shape):\n",
    "                    print(\"The two image sizes do not match!\")\n",
    "                    width = frame1.shape[1]\n",
    "                    height = frame1.shape[0]\n",
    "                    frame2 = cv2.resize(frame2, (width, height), interpolation=cv2.INTER_AREA)\n",
    "\n",
    "                # print(frame1.shape)\n",
    "                # print(frame2.shape)\n",
    "\n",
    "                prvs = cv2.cvtColor(frame1,cv2.COLOR_BGR2GRAY)\n",
    "                next = cv2.cvtColor(frame2,cv2.COLOR_BGR2GRAY)\n",
    "\n",
    "                flow_image = np.zeros_like(frame1)\n",
    "\n",
    "                hsv = np.zeros_like(frame1)\n",
    "                hsv[..., 1] = 255\n",
    "\n",
    "                flow = cv2.calcOpticalFlowFarneback(prvs, next, None, 0.5, 1, 12, 6, 7, 1.5, 0)\n",
    "                if (flow[...,0].max()-flow[...,0].min()<0.5 and flow[...,1].max()-flow[...,1].min()<0.5) :\n",
    "                    print(n)\n",
    "                    print(do1)\n",
    "                    continue \n",
    "                mag, ang = cv2.cartToPolar(flow[...,0], flow[...,1])\n",
    "\n",
    "                horz = cv2.normalize(flow[...,0], None, 0, 255, cv2.NORM_MINMAX)\n",
    "                vert = cv2.normalize(flow[...,1], None, 0, 255, cv2.NORM_MINMAX)\n",
    "                horz = horz.astype('uint8')\n",
    "                vert = vert.astype('uint8')\n",
    "\n",
    "                flow_image[...,0] = horz\n",
    "                flow_image[...,1] = vert\n",
    "                flow_image[...,2] = cv2.normalize(mag, None, 0, 255, cv2.NORM_MINMAX)\n",
    "\n",
    "                cv2.imwrite(r'C:\\Users\\amin\\extracted patch\\optical\\\\'+do1+'_'+str(n)+'.jpg', flow_image)\n",
    "#             else :\n",
    "#                 frame1 = cv2.imread(pathImage+do1+'_'+str(n)+'.jpg')\n",
    "#                 frame2 = cv2.imread(pathImage+do1+'_'+str(n)+'.jpg')\n",
    "\n",
    "#                 if not (frame1.shape == frame2.shape):\n",
    "#                     print(\"The two image sizes do not match!\")\n",
    "#                     width = frame1.shape[1]\n",
    "#                     height = frame1.shape[0]\n",
    "#                     frame2 = cv2.resize(frame2, (width, height), interpolation=cv2.INTER_AREA)\n",
    "\n",
    "#                 # print(frame1.shape)\n",
    "#                 # print(frame2.shape)\n",
    "\n",
    "#                 prvs = cv2.cvtColor(frame1,cv2.COLOR_BGR2GRAY)\n",
    "#                 next = cv2.cvtColor(frame2,cv2.COLOR_BGR2GRAY)\n",
    "\n",
    "#                 flow_image = np.zeros_like(frame1)\n",
    "\n",
    "#                 hsv = np.zeros_like(frame1)\n",
    "#                 hsv[..., 1] = 255\n",
    "\n",
    "#                 flow = cv2.calcOpticalFlowFarneback(prvs, next, None, 0.5, 3, 15, 3, 5, 1.2, 0)\n",
    "#                 mag, ang = cv2.cartToPolar(flow[...,0], flow[...,1])\n",
    "\n",
    "#                 horz = cv2.normalize(flow[...,0], None, 0, 255, cv2.NORM_MINMAX)\n",
    "#                 vert = cv2.normalize(flow[...,1], None, 0, 255, cv2.NORM_MINMAX)\n",
    "#                 horz = horz.astype('uint8')\n",
    "#                 vert = vert.astype('uint8')\n",
    "\n",
    "#                 flow_image[...,0] = horz\n",
    "#                 flow_image[...,1] = vert\n",
    "#                 flow_image[...,2] = cv2.normalize(mag, None, 0, 255, cv2.NORM_MINMAX)\n",
    "\n",
    "#                 cv2.imwrite('C:\\Users\\amin\\extracted patch\\optical\\\\'+do1+'_'+str(n)+'.jpg', flow_image)\n",
    " \n"
   ]
  },
  {
   "cell_type": "code",
   "execution_count": null,
   "id": "c62f6730",
   "metadata": {},
   "outputs": [],
   "source": []
  }
 ],
 "metadata": {
  "kernelspec": {
   "display_name": "Python 3 (ipykernel)",
   "language": "python",
   "name": "python3"
  },
  "language_info": {
   "codemirror_mode": {
    "name": "ipython",
    "version": 3
   },
   "file_extension": ".py",
   "mimetype": "text/x-python",
   "name": "python",
   "nbconvert_exporter": "python",
   "pygments_lexer": "ipython3",
   "version": "3.8.0"
  }
 },
 "nbformat": 4,
 "nbformat_minor": 5
}
