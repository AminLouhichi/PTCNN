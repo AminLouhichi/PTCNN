{
 "cells": [
  {
   "cell_type": "markdown",
   "id": "c3a0690f",
   "metadata": {},
   "source": [
    "## pretrained_models VGG19 "
   ]
  },
  {
   "cell_type": "code",
   "execution_count": 1,
   "id": "d5fd573f",
   "metadata": {},
   "outputs": [],
   "source": [
    "from keras.applications.vgg19 import VGG19\n",
    "VGGFmodel = VGG19(include_top=True, weights=\"imagenet\",input_shape=(224,224,3))\n"
   ]
  },
  {
   "cell_type": "code",
   "execution_count": 17,
   "id": "543f7cbd",
   "metadata": {},
   "outputs": [],
   "source": [
    "from tensorflow.keras.preprocessing import image\n",
    "from tensorflow.keras.applications.vgg16 import preprocess_input,decode_predictions\n",
    "import numpy as np\n",
    "from keras import backend as K\n",
    "import torch\n",
    "import torchvision\n",
    "from tqdm import tqdm\n",
    "import pandas as pd\n",
    "import numpy as np\n",
    "import cv2\n",
    "from tqdm import tqdm\n",
    "from os import listdir\n",
    "from os.path import isfile, join\n",
    "import pandas as pd"
   ]
  },
  {
   "cell_type": "code",
   "execution_count": 18,
   "id": "504a9c7a",
   "metadata": {},
   "outputs": [],
   "source": [
    "import torch"
   ]
  },
  {
   "cell_type": "markdown",
   "id": "ea133bc4",
   "metadata": {},
   "source": [
    "### normalisation "
   ]
  },
  {
   "cell_type": "code",
   "execution_count": 19,
   "id": "4c6c90d0",
   "metadata": {},
   "outputs": [],
   "source": [
    "def normalization(v):\n",
    "    e=v/v.norm()\n",
    "    return e"
   ]
  },
  {
   "cell_type": "markdown",
   "id": "7d8232cb",
   "metadata": {},
   "source": [
    "### func qui calcule le vecteur statique"
   ]
  },
  {
   "cell_type": "code",
   "execution_count": 20,
   "id": "f10220a7",
   "metadata": {},
   "outputs": [],
   "source": [
    "#nb est le nb de image \n",
    "# Rbgfeature est le retour de la fc descripteur pour les images d'un acteur et d'une action spécifique concaténé \n",
    "def stat(rbgfeature,nb)  :\n",
    "  \n",
    "     #cette opération est due à la création d'un vecteur aléatoire lors du l'initialisation\n",
    "        rbgfeature=rbgfeature[1:nb]\n",
    "        d=torch.as_tensor(rbgfeature)\n",
    "        rbgfeature_statM = torch.max(d,0)[0]  \n",
    "        rbgfeature_statm = torch.min(d,0)[0]\n",
    "        rbgfeature_Stat =torch.cat((rbgfeature_statm,rbgfeature_statM))\n",
    "         #ms la concaténation des vecteurs statique max et Min\n",
    "        return rbgfeature_Stat"
   ]
  },
  {
   "cell_type": "markdown",
   "id": "49b90f36",
   "metadata": {},
   "source": [
    "### func qui retourne le nb fichier dans un dossier"
   ]
  },
  {
   "cell_type": "code",
   "execution_count": 21,
   "id": "0c5f70eb",
   "metadata": {},
   "outputs": [],
   "source": [
    "import pathlib\n",
    "def countNb(path) :\n",
    "    initial_count = 0\n",
    "    for path in pathlib.Path(path).iterdir():\n",
    "        if path.is_file():\n",
    "            initial_count += 1\n",
    "\n",
    "    return(initial_count)"
   ]
  },
  {
   "cell_type": "markdown",
   "id": "1b55db2a",
   "metadata": {},
   "source": [
    "### func qui retourne le vecteur descripteur de du model vgg19"
   ]
  },
  {
   "cell_type": "code",
   "execution_count": 22,
   "id": "19cb9c34",
   "metadata": {},
   "outputs": [],
   "source": [
    "# x c est l image\n",
    "def descriptor_vggf(x):\n",
    "# with a Sequential model\n",
    "    #teste sur le shape de l image\n",
    "    if (x.shape[1]!=224)or ( x.shape[2] !=224 ):\n",
    "    #resize l image (224,224)\n",
    "        x = cv2.resize(x, (224,224), interpolation = cv2.INTER_AREA)\n",
    "    \n",
    "    get_2sd_layer_output = K.function([VGGFmodel.layers[0].input],\n",
    "                                      [VGGFmodel.layers[24].output])\n",
    "    layer_output = get_2sd_layer_output([x])[0]\n",
    "    # Layer output est le résultat d'avant-dernière couche du modèle soit la 2e mme couche entièrement connectée \n",
    "    b=layer_output\n",
    "    \n",
    "    \n",
    "    return b"
   ]
  },
  {
   "cell_type": "markdown",
   "id": "f755e55a",
   "metadata": {},
   "source": [
    "### func qui retourne le vecteur descripteur de du model TSN"
   ]
  },
  {
   "cell_type": "code",
   "execution_count": 23,
   "id": "65a643a7",
   "metadata": {},
   "outputs": [],
   "source": [
    "#x -> image\n",
    "def descriptor_OP(x):\n",
    "# with a Sequential model\n",
    "    \n",
    "    #normalisation de l image \n",
    "    transform_fn = transforms.Compose([\n",
    "    \n",
    "    video.VideoToTensor(),\n",
    "    video.VideoNormalize([0.485, 0.456, 0.406], [0.229, 0.224, 0.225])])\n",
    "    #resize l image (224,224)\n",
    "    a=transforms.Resize((224, 224))\n",
    "    d=a(x)\n",
    "    img_list = transform_fn([d.asnumpy()])\n",
    "    #retourne le résultat d'avant-dernière couche du modèle soit la 2e mme couche entièrement connectée \n",
    "    m=net.features(nd.array(img_list[0]).expand_dims(axis=0))\n",
    "    \n",
    "    \n",
    "    \n",
    "    return m.asnumpy()"
   ]
  },
  {
   "cell_type": "markdown",
   "id": "589543b5",
   "metadata": {},
   "source": [
    "### func qui calcule le vecteur statique"
   ]
  },
  {
   "cell_type": "code",
   "execution_count": 24,
   "id": "ab1eedcb",
   "metadata": {},
   "outputs": [],
   "source": [
    "# feature est le retoure de la fc desripteur pour les images d'un acteur et d'une action spécifique concaténé \n",
    "#nb est le nb de image \n",
    "def dyn( feature,nb):\n",
    "    feature=feature[1:nb]\n",
    "    # cette opération est due à la création d'un vecteur aléatoire lors du l'initialisation \n",
    "    feature_diff = []\n",
    "    \n",
    "    for i in range(feature.shape[0] - 4):\n",
    "                       feature_diff.append(feature[i+4,:] - feature[i,:])\n",
    "                      \n",
    "                        d=torch.as_tensor(feature_diff)\n",
    "\n",
    "    #            \n",
    "                        dynM = torch.max(d,0)[0]\n",
    "                        dynm = torch.min(d,0)[0]\n",
    "                        ms =torch.cat((dynm,dynM))\n",
    "                #ms la concaténation des vecteurs dynamiques max et Min\n",
    "                       \n",
    "    return ms"
   ]
  },
  {
   "cell_type": "markdown",
   "id": "71e687ab",
   "metadata": {},
   "source": [
    "# VGG19"
   ]
  },
  {
   "cell_type": "code",
   "execution_count": 9,
   "id": "dfb56f0d",
   "metadata": {
    "collapsed": true
   },
   "outputs": [
    {
     "data": {
      "text/plain": [
       "['_clapping_HD',\n",
       " '_hittingBottle_toLeft_HD',\n",
       " '_hittingBottle_toRight_HD',\n",
       " '_hittingStick_toLeft_HD',\n",
       " '_hittingStick_toRight_HD',\n",
       " '_jogging_backView_HD',\n",
       " '_jogging_frontView_HD',\n",
       " '_jogging_toLeft_sideView_HD',\n",
       " '_jogging_toRight_sideView_HD',\n",
       " '_kicking_toLeft_HD',\n",
       " '_kicking_toRight_HD',\n",
       " '_punching_toLeft_sideView_HD',\n",
       " '_punching_toRight_sideView_HD',\n",
       " '_running_backView_HD',\n",
       " '_running_frontView_HD',\n",
       " '_running_toLeft_sideView_HD',\n",
       " '_running_toRight_sideView_HD',\n",
       " '_stabbing_toLeft_HD',\n",
       " '_stabbing_toRight_HD',\n",
       " '_walking_backView_HD',\n",
       " '_walking_frontView_HD',\n",
       " '_walking_toLeft_sideView_HD',\n",
       " '_walking_toRight_sideView_HD',\n",
       " '_wavingHands_HD']"
      ]
     },
     "execution_count": 9,
     "metadata": {},
     "output_type": "execute_result"
    }
   ],
   "source": [
    "pathAction=r\"C:\\Users\\amin\\extracted patch\\Nouveau dossier\\S1\"\n",
    "path=r\"C:\\Users\\amin\\extracted patch\\Nouveau dossier\\\\\"\n",
    "pathImage=r\"C:\\Users\\amin\\extracted patch\\action\\\\\"\n",
    "action = [f[2:] for f in listdir(pathAction) ]\n",
    "action"
   ]
  },
  {
   "cell_type": "code",
   "execution_count": 10,
   "id": "6af89fd6",
   "metadata": {},
   "outputs": [],
   "source": [
    "path =r'C:\\Users\\amin\\extracted patch\\Nouveau dossier'\n",
    "pathPatchUb=r'C:\\Users\\amin\\extracted patch\\image\\ub\\S'\n",
    "pathPatchRh=r'C:\\Users\\amin\\extracted patch\\image\\rh\\S'\n",
    "pathPatchFb=r'C:\\Users\\amin\\extracted patch\\image\\fb\\S'\n",
    "pathPatchLh=r'C:\\Users\\amin\\extracted patch\\image\\lh\\S'"
   ]
  },
  {
   "cell_type": "code",
   "execution_count": 11,
   "id": "678e2561",
   "metadata": {},
   "outputs": [
    {
     "data": {
      "text/plain": [
       "24"
      ]
     },
     "execution_count": 11,
     "metadata": {},
     "output_type": "execute_result"
    }
   ],
   "source": [
    "classes=[1,2,2,10,10,3,3,3,3,4,4,5,5,6,6,6,6,7,7,8,8,8,8,9]\n",
    "\n",
    "len(classes)"
   ]
  },
  {
   "cell_type": "code",
   "execution_count": 12,
   "id": "caa8ffa7",
   "metadata": {},
   "outputs": [
    {
     "name": "stderr",
     "output_type": "stream",
     "text": [
      "100%|██████████| 5/5 [13:30:21<00:00, 9724.23s/it]   \n"
     ]
    }
   ],
   "source": [
    "df2 = pd.DataFrame()\n",
    "dossier = [f for f in listdir(path) ]\n",
    "m=0 \n",
    "classes2= []\n",
    "\n",
    "pathImg = r'C:\\Users\\amin\\extracted patch\\action'+'\\\\'\n",
    "for i in tqdm(range (5,10)) :\n",
    "    pathData = r'C:\\Users\\amin\\extracted patch\\Nouveau dossier'+'\\\\'\n",
    "    pathData=pathData+ dossier[i]+'\\\\'\n",
    "    Data = [f for f in listdir(pathData) ]\n",
    "    mp=dossier[i]\n",
    "    for j in range (0,len(Data)) :\n",
    "        a=pathData\n",
    "        do=Data[j]\n",
    "        a=a+Data[j]+'\\\\'\n",
    "\n",
    "       \n",
    "        rhand_rbgfeature=np.ndarray(shape=(1,4096))\n",
    "        lhand_rbgfeature=np.ndarray(shape=(1,4096))\n",
    "        UB_rbgfeature=np.ndarray(shape=(1,4096))\n",
    "        FB_rbgfeature=np.ndarray(shape=(1,4096))\n",
    "      \n",
    "        nb=int((countNb(a)/2)+1)\n",
    "\n",
    "        for n in  range(1,nb):\n",
    "            aRH = pathPatchRh+mp[1:]+'\\\\'+do+'_'+str(n)+'.jpg'\n",
    "            aUB = pathPatchUb+mp[1:]+'\\\\'+do+'_'+str(n)+'.jpg'\n",
    "            aLH = pathPatchLh+mp[1:]+'\\\\'+do+'_'+str(n)+'.jpg'\n",
    "            aFB = pathPatchFb+mp[1:]+'\\\\'+do+'_'+str(n)+'.jpg'\n",
    "\n",
    "            #image loaded RH\n",
    "            imgRH = image.load_img(aRH,color_mode='rgb', target_size=(224, 224))\n",
    "            RH = image.img_to_array(imgRH)\n",
    "            RH = np.expand_dims(RH, axis=0)\n",
    "            RH = preprocess_input(RH)\n",
    "            #image loaded LH\n",
    "            imgLH = image.load_img(aLH,color_mode='rgb', target_size=(224, 224))\n",
    "            LH = image.img_to_array(imgLH)\n",
    "            LH = np.expand_dims(LH, axis=0)\n",
    "            LH = preprocess_input(RH)\n",
    "            #image loaded UB\n",
    "            imgUB = image.load_img(aUB,color_mode='rgb', target_size=(224, 224))\n",
    "            UB = image.img_to_array(imgUB)\n",
    "            UB = np.expand_dims(UB, axis=0)\n",
    "            UB = preprocess_input(UB)\n",
    "            #image loaded FB\n",
    "            imgFB = image.load_img(aFB,color_mode='rgb', target_size=(224, 224))\n",
    "            FB = image.img_to_array(imgFB)\n",
    "            FB = np.expand_dims(FB, axis=0)\n",
    "            FB = preprocess_input(FB)\n",
    "\n",
    "            \n",
    "            \n",
    "            layer_output_RH=descriptor_vggf(RH)\n",
    "            rhand_rbgfeature=np.append(rhand_rbgfeature, layer_output_RH, axis = 0)\n",
    "            layer_output_LH=descriptor_vggf(LH)\n",
    "            lhand_rbgfeature=np.append(lhand_rbgfeature, layer_output_LH, axis = 0)\n",
    "            layer_output_UB=descriptor_vggf(UB)\n",
    "            UB_rbgfeature=np.append(UB_rbgfeature, layer_output_UB, axis = 0)\n",
    "            layer_output_FB=descriptor_vggf(FB)\n",
    "            FB_rbgfeature=np.append(FB_rbgfeature, layer_output_FB, axis = 0)\n",
    "\n",
    "\n",
    "        lhand_rbgfeature_Dym=dyn(lhand_rbgfeature,nb)\n",
    "        lhand_rbgfeature_stat=stat(lhand_rbgfeature,nb)\n",
    "        \n",
    "        rhand_rbgfeature_Dym=dyn(rhand_rbgfeature,nb)\n",
    "        rhand_rbgfeature_stat=stat(rhand_rbgfeature,nb)\n",
    "        \n",
    "        UB_rbgfeature_Dym=dyn(UB_rbgfeature,nb)\n",
    "        UB_rbgfeature_stat=stat(UB_rbgfeature,nb)\n",
    "        \n",
    "        FB_rbgfeature_Dym=dyn(FB_rbgfeature,nb)\n",
    "        FB_rbgfeature_stat=stat(FB_rbgfeature,nb)\n",
    "        # vapp = vecteur apparence -> le résultat d'une action d'un acteur spécifique \n",
    "        Vapp =torch.cat((lhand_rbgfeature_stat,rhand_rbgfeature_stat,UB_rbgfeature_stat,FB_rbgfeature_stat,lhand_rbgfeature_Dym,rhand_rbgfeature_Dym,UB_rbgfeature_Dym,FB_rbgfeature_Dym))\n",
    "        px = pd.DataFrame(Vapp).astype(\"float\")\n",
    "        px=px.T\n",
    "        df2=pd.concat([px, df2])\n",
    "        classes2.append(do[3:])\n",
    "            \n",
    "            \n",
    "#     df = df.append(Vapp, ignore_index = True)\n",
    "#     df['classe'] = address"
   ]
  },
  {
   "cell_type": "markdown",
   "id": "8571c0dc",
   "metadata": {},
   "source": [
    "## pretrained_models TSN "
   ]
  },
  {
   "cell_type": "code",
   "execution_count": 28,
   "id": "f2ec4438",
   "metadata": {},
   "outputs": [],
   "source": [
    "import matplotlib.pyplot as plt\n",
    "import numpy as np\n",
    "import mxnet as mx\n",
    "from mxnet import gluon, nd, image\n",
    "from mxnet.gluon.data.vision import transforms\n",
    "from gluoncv.data.transforms import video\n",
    "from gluoncv import utils\n",
    "from gluoncv.model_zoo import get_model\n",
    "import pandas as pd"
   ]
  },
  {
   "cell_type": "code",
   "execution_count": 10,
   "id": "13a96cf7",
   "metadata": {},
   "outputs": [],
   "source": [
    "#imporation du pretrained model\n",
    "net = get_model('vgg16_ucf101', pretrained=True , include_top=False)"
   ]
  },
  {
   "cell_type": "code",
   "execution_count": 11,
   "id": "2f7828a0",
   "metadata": {},
   "outputs": [],
   "source": [
    "from os import listdir\n",
    "from os.path import isfile, join\n",
    "from tqdm import tqdm"
   ]
  },
  {
   "cell_type": "code",
   "execution_count": 15,
   "id": "e28087c1",
   "metadata": {},
   "outputs": [],
   "source": [
    "path =r'C:\\Users\\amin\\extracted patch\\Nouveau dossier'\n",
    "pathPatchUb=r'C:\\Users\\amin\\extracted patch\\imageOP\\ub\\S'\n",
    "pathPatchRh=r'C:\\Users\\amin\\extracted patch\\imageOP\\rh\\S'\n",
    "pathPatchFb=r'C:\\Users\\amin\\extracted patch\\imageOP\\fb\\S'\n",
    "pathPatchLh=r'C:\\Users\\amin\\extracted patch\\imageOP\\lh\\S'"
   ]
  },
  {
   "cell_type": "code",
   "execution_count": 29,
   "id": "b277b228",
   "metadata": {
    "collapsed": true
   },
   "outputs": [
    {
     "name": "stderr",
     "output_type": "stream",
     "text": [
      "  0%|          | 0/1 [00:00<?, ?it/s]\n",
      "  0%|          | 0/24 [00:00<?, ?it/s]\u001b[A\n",
      "  4%|▍         | 1/24 [19:25<7:26:55, 1165.91s/it]\u001b[A\n",
      "  8%|▊         | 2/24 [38:04<6:57:20, 1138.21s/it]\u001b[A\n",
      " 12%|█▎        | 3/24 [55:47<6:26:16, 1103.63s/it]\u001b[A\n",
      " 17%|█▋        | 4/24 [1:13:33<6:03:00, 1089.01s/it]\u001b[A\n",
      " 21%|██        | 5/24 [1:31:24<5:42:44, 1082.36s/it]\u001b[A\n",
      " 25%|██▌       | 6/24 [1:44:51<4:56:36, 988.71s/it] \u001b[A\n",
      " 29%|██▉       | 7/24 [1:57:51<4:20:52, 920.71s/it]\u001b[A\n",
      " 33%|███▎      | 8/24 [2:12:21<4:01:11, 904.46s/it]\u001b[A\n",
      " 38%|███▊      | 9/24 [2:28:26<3:50:52, 923.48s/it]\u001b[A\n",
      " 42%|████▏     | 10/24 [2:49:17<3:59:01, 1024.41s/it]\u001b[A\n",
      " 46%|████▌     | 11/24 [3:07:54<3:48:04, 1052.65s/it]\u001b[A\n",
      " 50%|█████     | 12/24 [3:19:54<3:10:19, 951.60s/it] \u001b[A\n",
      " 54%|█████▍    | 13/24 [3:33:54<2:48:14, 917.72s/it]\u001b[A\n",
      " 58%|█████▊    | 14/24 [3:42:52<2:13:52, 803.23s/it]\u001b[A\n",
      " 62%|██████▎   | 15/24 [3:47:31<1:36:46, 645.15s/it]\u001b[A\n",
      " 67%|██████▋   | 16/24 [3:57:37<1:24:25, 633.16s/it]\u001b[A\n",
      " 71%|███████   | 17/24 [4:08:47<1:15:11, 644.44s/it]\u001b[A\n",
      " 75%|███████▌  | 18/24 [4:26:51<1:17:39, 776.52s/it]\u001b[A\n",
      " 79%|███████▉  | 19/24 [4:42:43<1:09:05, 829.07s/it]\u001b[A\n",
      " 83%|████████▎ | 20/24 [5:02:19<1:02:13, 933.32s/it]\u001b[A\n",
      " 88%|████████▊ | 21/24 [5:19:49<48:24, 968.33s/it]  \u001b[A\n",
      " 92%|█████████▏| 22/24 [5:38:28<33:47, 1013.60s/it]\u001b[A\n",
      " 96%|█████████▌| 23/24 [5:55:59<17:04, 1024.86s/it]\u001b[A\n",
      "100%|██████████| 24/24 [6:20:17<00:00, 950.71s/it] \u001b[A\n",
      "100%|██████████| 1/1 [6:20:17<00:00, 22817.05s/it]\n"
     ]
    }
   ],
   "source": [
    "df = pd.DataFrame()\n",
    "dossier = [f for f in listdir(path) ]\n",
    "m=0 \n",
    "classes= []\n",
    "\n",
    "pathImg = r'C:\\Users\\amin\\extracted patch\\optical'+'\\\\'\n",
    "for i in tqdm(range (9,10)) :\n",
    "    pathData = r'C:\\Users\\amin\\extracted patch\\Nouveau dossier'+'\\\\'\n",
    "    pathData=pathData+ dossier[i]+'\\\\'\n",
    "    Data = [f for f in listdir(pathData) ]\n",
    "    mp=dossier[i]\n",
    "    for j in tqdm(range (0,len(Data))) :\n",
    "        a=pathData\n",
    "        do=Data[j]\n",
    "        a=a+Data[j]+'\\\\'\n",
    "        \n",
    "       \n",
    "        rhand_rbgfeature=np.ndarray(shape=(1,4096))\n",
    "        lhand_rbgfeature=np.ndarray(shape=(1,4096))\n",
    "        UB_rbgfeature=np.ndarray(shape=(1,4096))\n",
    "        FB_rbgfeature=np.ndarray(shape=(1,4096))\n",
    "      \n",
    "        nb=int((countNb(a)/2))\n",
    "\n",
    "        for n in  range(1,nb):\n",
    "            if do+'_'+str(n)=='S3_hittingBottle_toRight_HD_52':\n",
    "                    continue\n",
    "                \n",
    "            aRH = pathPatchRh+mp[1:]+'\\\\'+do+'_'+str(n)+'.jpg'\n",
    "            aUB = pathPatchUb+mp[1:]+'\\\\'+do+'_'+str(n)+'.jpg'\n",
    "            aLH = pathPatchLh+mp[1:]+'\\\\'+do+'_'+str(n)+'.jpg'\n",
    "            aFB = pathPatchFb+mp[1:]+'\\\\'+do+'_'+str(n)+'.jpg'\n",
    "            \n",
    "            #image loaded RH\n",
    "            imgRH =  image.imread(aRH)\n",
    "           \n",
    "           \n",
    "            #image loaded LH\n",
    "            imgLH =  image.imread(aLH)\n",
    "           \n",
    "            #image loaded UB\n",
    "            imgUB = image.imread(aUB)\n",
    "           \n",
    "            #image loaded FB\n",
    "            imgFB =  image.imread(aFB)\n",
    "            \n",
    "\n",
    "            \n",
    "            \n",
    "            layer_output_RH=descriptor_OP(imgRH)\n",
    "            rhand_rbgfeature=np.append(rhand_rbgfeature, layer_output_RH, axis = 0)\n",
    "            layer_output_LH=descriptor_OP(imgLH)\n",
    "            lhand_rbgfeature=np.append(lhand_rbgfeature, layer_output_LH, axis = 0)\n",
    "            layer_output_UB=descriptor_OP(imgUB)\n",
    "            UB_rbgfeature=np.append(UB_rbgfeature, layer_output_UB, axis = 0)\n",
    "            layer_output_FB=descriptor_OP(imgFB)\n",
    "            FB_rbgfeature=np.append(FB_rbgfeature, layer_output_FB, axis = 0)\n",
    "\n",
    "\n",
    "        lhand_rbgfeature_Dym=dyn(lhand_rbgfeature,nb)\n",
    "        lhand_rbgfeature_stat=stat(lhand_rbgfeature,nb)\n",
    "        \n",
    "        rhand_rbgfeature_Dym=dyn(rhand_rbgfeature,nb)\n",
    "        rhand_rbgfeature_stat=stat(rhand_rbgfeature,nb)\n",
    "        \n",
    "        UB_rbgfeature_Dym=dyn(UB_rbgfeature,nb)\n",
    "        UB_rbgfeature_stat=stat(UB_rbgfeature,nb)\n",
    "        \n",
    "        FB_rbgfeature_Dym=dyn(FB_rbgfeature,nb)\n",
    "        FB_rbgfeature_stat=stat(FB_rbgfeature,nb)\n",
    "        # vapp = vecteur apparence -> le résultat d'une action d'un acteur spécifique \n",
    "        Vapp =torch.cat((lhand_rbgfeature_stat,rhand_rbgfeature_stat,UB_rbgfeature_stat,FB_rbgfeature_stat,lhand_rbgfeature_Dym,rhand_rbgfeature_Dym,UB_rbgfeature_Dym,FB_rbgfeature_Dym))\n",
    "        px = pd.DataFrame(Vapp).astype(\"float\")\n",
    "        px=px.T\n",
    "        df=pd.concat([px, df])\n",
    "        \n",
    "        classes.append(do[3:])\n",
    "        \n",
    "            \n",
    "            \n",
    "#     df = df.append(Vapp, ignore_index = True)\n",
    "#     df['classe'] = address"
   ]
  }
 ],
 "metadata": {
  "kernelspec": {
   "display_name": "Python 3 (ipykernel)",
   "language": "python",
   "name": "python3"
  },
  "language_info": {
   "codemirror_mode": {
    "name": "ipython",
    "version": 3
   },
   "file_extension": ".py",
   "mimetype": "text/x-python",
   "name": "python",
   "nbconvert_exporter": "python",
   "pygments_lexer": "ipython3",
   "version": "3.8.0"
  }
 },
 "nbformat": 4,
 "nbformat_minor": 5
}
